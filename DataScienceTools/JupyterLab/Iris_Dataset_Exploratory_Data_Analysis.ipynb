{
  "nbformat_minor": 0,
  "metadata": {
    "kernelspec": {
      "language": "python",
      "display_name": "Python 3",
      "name": "python3"
    },
    "language_info": {
      "pygments_lexer": "ipython3",
      "codemirror_mode": {
        "version": 3,
        "name": "ipython"
      },
      "nbconvert_exporter": "python",
      "version": "3.6.4",
      "mimetype": "text/x-python",
      "file_extension": ".py",
      "name": "python"
    },
    "colab": {
      "name": "Iris Dataset - Exploratory Data Analysis",
      "provenance": []
    }
  },
  "cells": [
    {
      "source": [
        "\n",
        "# IMPORTANT: RUN THIS CELL IN ORDER TO IMPORT YOUR KAGGLE DATA SOURCES\n",
        "# TO THE CORRECT LOCATION (/kaggle/input) IN YOUR NOTEBOOK,\n",
        "# THEN FEEL FREE TO DELETE THIS CELL.\n",
        "# NOTE: THIS NOTEBOOK ENVIRONMENT DIFFERS FROM KAGGLE'S PYTHON\n",
        "# ENVIRONMENT SO THERE MAY BE MISSING LIBRARIES USED BY YOUR\n",
        "# NOTEBOOK.\n",
        "\n",
        "import os\n",
        "import sys\n",
        "from tempfile import NamedTemporaryFile\n",
        "from urllib.request import urlopen\n",
        "from urllib.parse import unquote, urlparse\n",
        "from urllib.error import HTTPError\n",
        "from zipfile import ZipFile\n",
        "import tarfile\n",
        "import shutil\n",
        "\n",
        "CHUNK_SIZE = 40960\n",
        "DATA_SOURCE_MAPPING = ':https%3A%2F%2Fstorage.googleapis.com%2Fkaggle-data-sets%2F19%2F420%2Fbundle%2Farchive.zip%3FX-Goog-Algorithm%3DGOOG4-RSA-SHA256%26X-Goog-Credential%3Dgcp-kaggle-com%2540kaggle-161607.iam.gserviceaccount.com%252F20240906%252Fauto%252Fstorage%252Fgoog4_request%26X-Goog-Date%3D20240906T045310Z%26X-Goog-Expires%3D259200%26X-Goog-SignedHeaders%3Dhost%26X-Goog-Signature%3D1688d0edabbc77eebda93d407717dff860c4798837052b92b2ec3edee7e9fd582a1298d4cc5e00086aa0a098b6cf18e873ba04a3ef9340156a554ab6e7036c1fdba421634e3f481029f6874b3e308f3caa8e0643cd678b76e401b1fcef00237a3febb84115b1a8c8cb86c976630c5bbabee17ac90fca313418af6b9651f9965c40d632e6229f6194734520b5cbeaa9aadd08ab3b32f396488d64dd2a21ce7d9235b4a2a09dfec68608e63e13c4336278cb572a344fc6cfb30f11300d8950bf438379500c2da202757762327ba22a2c75242a8143d3837f5b28558ae533535e4ce309ad55e48b25a1eceb21aeade9b59d8059b6124ad34db7d9ce3b51d9503489'\n",
        "\n",
        "KAGGLE_INPUT_PATH='/kaggle/input'\n",
        "KAGGLE_WORKING_PATH='/kaggle/working'\n",
        "KAGGLE_SYMLINK='kaggle'\n",
        "\n",
        "!umount /kaggle/input/ 2> /dev/null\n",
        "shutil.rmtree('/kaggle/input', ignore_errors=True)\n",
        "os.makedirs(KAGGLE_INPUT_PATH, 0o777, exist_ok=True)\n",
        "os.makedirs(KAGGLE_WORKING_PATH, 0o777, exist_ok=True)\n",
        "\n",
        "try:\n",
        "  os.symlink(KAGGLE_INPUT_PATH, os.path.join(\"..\", 'input'), target_is_directory=True)\n",
        "except FileExistsError:\n",
        "  pass\n",
        "try:\n",
        "  os.symlink(KAGGLE_WORKING_PATH, os.path.join(\"..\", 'working'), target_is_directory=True)\n",
        "except FileExistsError:\n",
        "  pass\n",
        "\n",
        "for data_source_mapping in DATA_SOURCE_MAPPING.split(','):\n",
        "    directory, download_url_encoded = data_source_mapping.split(':')\n",
        "    download_url = unquote(download_url_encoded)\n",
        "    filename = urlparse(download_url).path\n",
        "    destination_path = os.path.join(KAGGLE_INPUT_PATH, directory)\n",
        "    try:\n",
        "        with urlopen(download_url) as fileres, NamedTemporaryFile() as tfile:\n",
        "            total_length = fileres.headers['content-length']\n",
        "            print(f'Downloading {directory}, {total_length} bytes compressed')\n",
        "            dl = 0\n",
        "            data = fileres.read(CHUNK_SIZE)\n",
        "            while len(data) > 0:\n",
        "                dl += len(data)\n",
        "                tfile.write(data)\n",
        "                done = int(50 * dl / int(total_length))\n",
        "                sys.stdout.write(f\"\\r[{'=' * done}{' ' * (50-done)}] {dl} bytes downloaded\")\n",
        "                sys.stdout.flush()\n",
        "                data = fileres.read(CHUNK_SIZE)\n",
        "            if filename.endswith('.zip'):\n",
        "              with ZipFile(tfile) as zfile:\n",
        "                zfile.extractall(destination_path)\n",
        "            else:\n",
        "              with tarfile.open(tfile.name) as tarfile:\n",
        "                tarfile.extractall(destination_path)\n",
        "            print(f'\\nDownloaded and uncompressed: {directory}')\n",
        "    except HTTPError as e:\n",
        "        print(f'Failed to load (likely expired) {download_url} to path {destination_path}')\n",
        "        continue\n",
        "    except OSError as e:\n",
        "        print(f'Failed to load {download_url} to path {destination_path}')\n",
        "        continue\n",
        "\n",
        "print('Data source import complete.')\n"
      ],
      "metadata": {
        "id": "pGl4eYnbreWv"
      },
      "cell_type": "code",
      "outputs": [],
      "execution_count": null
    },
    {
      "metadata": {
        "_cell_guid": "3a3cd43b-188c-4ac9-9074-cba7c9876b14",
        "_uuid": "048dda54867bc01bf3e2198a6092fad4a322e0a6",
        "id": "c_lFFd3rreWx"
      },
      "source": [
        "**Loading the Iris dataset from Scikit-learn**"
      ],
      "cell_type": "markdown"
    },
    {
      "metadata": {
        "_cell_guid": "08f7aef9-9f02-4460-9c61-9c2a8362af3f",
        "_uuid": "0235310d9108c7e6a35991c342ebbd4de7fc80ef",
        "collapsed": true,
        "id": "duH2CmN3reWz"
      },
      "execution_count": null,
      "cell_type": "code",
      "source": [
        "# import load_iris function from datasets module\n",
        "from sklearn.datasets import load_iris"
      ],
      "outputs": []
    },
    {
      "metadata": {
        "_cell_guid": "82685b8d-bad6-42e6-a1c9-f1ccd731f0ef",
        "_uuid": "5029b7b26f28bfeb36eb0a084b16d251886cbf57",
        "id": "RP3xpabdreW0"
      },
      "source": [
        "**Data as table**\n",
        "\n",
        "A basic table is a two-dimensional grid of data, in which the rows represent individual elements of the dataset, and the columns represent quantities related to each of these elements. In general, we will refer to the rows of the matrix as samples, and the number of rows as n_samples and the the columns of the matrix as features, and the number of columns as n_features.\n",
        "\n",
        "**Features matrix** - This table layout makes clear that the information can be thought of as a two-dimensional numerical array or matrix,  called  the features matrix with shape [n_samples, n_features]\n",
        "\n",
        "**Target array.**- In addition to the feature matrix X, we also generally work with a label or target array, which by convention we will usually call y. The target array is usually one dimensional, with length n_samples, and is generally contained in a NumPy array or Pandas Series."
      ],
      "cell_type": "markdown"
    },
    {
      "metadata": {
        "_cell_guid": "8cfd62b0-6e55-4849-8af7-6a192964fcb0",
        "_uuid": "4696933a9239b1988f95db01029b3ca9016511a8",
        "id": "pUx7PW9GreW1"
      },
      "execution_count": null,
      "cell_type": "code",
      "source": [
        "# save \"bunch\" object containing iris dataset and iits attributes\n",
        "iris = load_iris()\n",
        "type(iris)"
      ],
      "outputs": []
    },
    {
      "metadata": {
        "_cell_guid": "7667b5fc-f755-489c-a4d8-8b0cab773241",
        "_uuid": "e08c1bf8cbdb85ffd955f41bf84fc83529b5bb5a",
        "id": "UFNO-2aoreW3"
      },
      "execution_count": null,
      "cell_type": "code",
      "source": [
        "#print the iris dataset\n",
        "# Each row represents the flowers and each column represents the length and width.\n",
        "print (iris.data)\n",
        "iris.data.shape"
      ],
      "outputs": []
    },
    {
      "metadata": {
        "_cell_guid": "38031e6c-2295-4269-87eb-4ec45ef7465b",
        "_uuid": "2b49f17480b332a8d4e4f6d3db2519df18a45a5e",
        "id": "zlQhG1V_reW4"
      },
      "source": [
        "**Machine Learning Terminology**\n",
        "\n",
        "1.  Each row is  an **observation** (also known as : sample, example, instance, record)\n",
        "\n",
        "2. Each column is a **feature** (also known as: Predictor, attribute, Independent Variable, input, regressor, Covariate)"
      ],
      "cell_type": "markdown"
    },
    {
      "metadata": {
        "_cell_guid": "f1f088c8-cced-44dc-9034-52e9b8c6a46a",
        "_uuid": "b8713b9ac7d1173970ee41585684f332d7f6b154",
        "id": "nBO_KBfGreW5"
      },
      "execution_count": null,
      "cell_type": "code",
      "source": [
        "# print the names of the four features\n",
        "print (iris.feature_names)"
      ],
      "outputs": []
    },
    {
      "metadata": {
        "_cell_guid": "a7ad4dd1-91ac-478b-9092-e972bad9386f",
        "_uuid": "6c9cd325c1b6ba05217174ea756c0e5e6e4a3665",
        "id": "FXNAfIBQreW5"
      },
      "execution_count": null,
      "cell_type": "code",
      "source": [
        "# print the integers representing the species of each observation\n",
        "print (iris.target)"
      ],
      "outputs": []
    },
    {
      "metadata": {
        "_cell_guid": "c6af1ac8-336a-4ab9-991e-48c106437064",
        "_uuid": "46b4aea78bb333083b76b64043a0c34c90d7afc9",
        "id": "7_lnHsXmreW7"
      },
      "execution_count": null,
      "cell_type": "code",
      "source": [
        "# print the encoding scheme for species; 0 = Setosa , 1=Versicolor, 2= virginica\n",
        "print (iris.target_names)"
      ],
      "outputs": []
    },
    {
      "metadata": {
        "_cell_guid": "cb2ef099-4263-40ca-8153-7a77f368113c",
        "_uuid": "dc638432ed475cc9b9f1376bf9175f9273d360b1",
        "id": "1-rmNkrWreW7"
      },
      "source": [
        "Each value we are predicting is the **response** (also known as: target, outcome, label, dependent variable)\n",
        "\n",
        "**Classification** is supervised learning in which the response is categorical\n",
        "\n",
        "**Regression** is supervised learning in which the response is ordered and continuous"
      ],
      "cell_type": "markdown"
    },
    {
      "metadata": {
        "_cell_guid": "0960423c-748e-4160-b48a-3217cc55a3e1",
        "_uuid": "d76cd30a92701550d3c01c90b3cbed9a28eaeb2f",
        "id": "PD9ECZ3DreW8"
      },
      "source": [
        "**Requirements for working with data in scikit-learn**\n",
        "\n",
        "1) Features  and response are **separate objects**\n",
        "\n",
        "2) Features and response should be **numeric**\n",
        "\n",
        "3)Features and response should be **NumPy arrays**\n",
        "\n",
        "4)Features and response should have **specific shapes**"
      ],
      "cell_type": "markdown"
    },
    {
      "metadata": {
        "_cell_guid": "ce9caff3-5b84-4c50-93d6-f1e08ad903e6",
        "_uuid": "f08bc83c97d86c38f394142ebfad54823d109e5c",
        "id": "MJyOzpTLreW9"
      },
      "execution_count": null,
      "cell_type": "code",
      "source": [
        "# Check the types of the features and response\n",
        "type('iris.data')\n",
        "type('iris.target')"
      ],
      "outputs": []
    },
    {
      "metadata": {
        "_cell_guid": "5faf34e2-a115-4f22-8a85-940a6ed07c3d",
        "_uuid": "8561f26dba6fbe2ff8acd0d1bdaf20c99f69dcd3",
        "id": "H6KvbiJoreW9"
      },
      "execution_count": null,
      "cell_type": "code",
      "source": [
        "# Check the shape of the features\n",
        "#(first dimension = (ROWS) ie number of observations, second dimensions = (COLUMNS) ie number of features)\n",
        "iris.data.shape"
      ],
      "outputs": []
    },
    {
      "metadata": {
        "_cell_guid": "58bca1c6-b930-4563-9d47-3ef50e1ff8b8",
        "_uuid": "1386dd85a6d226338c908e80f6029f428c105b43",
        "id": "Jh6IgnMpreW-"
      },
      "execution_count": null,
      "cell_type": "code",
      "source": [
        "# Check the sape of the response (single dimension matching the number of observation)\n",
        "iris.target.shape"
      ],
      "outputs": []
    },
    {
      "metadata": {
        "_cell_guid": "63bc9126-8e48-4b08-ba65-29c2a0f503b6",
        "_uuid": "9cdd458c1ae16aaa85f0bb8803b9e4ab184f5c21",
        "id": "87jITm4nreW-"
      },
      "source": [
        "**1. Scatter Plot with Iris Dataset **"
      ],
      "cell_type": "markdown"
    },
    {
      "metadata": {
        "_cell_guid": "0103fb79-6359-4320-b4c0-996379075e7a",
        "_uuid": "9eb3473fac60cea1c4557ebd8db9f6a6401aa9a2",
        "id": "BEy2ywTDreW-"
      },
      "execution_count": null,
      "cell_type": "code",
      "source": [
        "# Extract the values for features and create a list called featuresAll\n",
        "featuresAll=[]\n",
        "features = iris.data[: , [0,1,2,3]]\n",
        "features.shape"
      ],
      "outputs": []
    },
    {
      "metadata": {
        "_cell_guid": "b1653810-f349-40da-8493-d8d04fadca41",
        "_uuid": "ec410b77e80f5d2eca5145a00e426655674ea26e",
        "id": "TDTC7UdUreW_"
      },
      "execution_count": null,
      "cell_type": "code",
      "source": [
        "# Extract the values for targets\n",
        "targets = iris.target\n",
        "targets.reshape(targets.shape[0],-1)\n",
        "targets.shape"
      ],
      "outputs": []
    },
    {
      "metadata": {
        "_cell_guid": "0188510f-f12b-43e3-a482-a61b6b12fe4b",
        "_uuid": "3f8faefe7acbbab8d407a617b92f18bf2c33e483",
        "id": "Ol_RO0_NreXA"
      },
      "execution_count": null,
      "cell_type": "code",
      "source": [
        "# Every observation gets appended into the list once it is read. For loop is used for iteration process\n",
        "for observation in features:\n",
        "    featuresAll.append([observation[0] + observation[1] + observation[2] + observation[3]])\n",
        "print (featuresAll)\n"
      ],
      "outputs": []
    },
    {
      "metadata": {
        "_cell_guid": "cea11c2f-7840-4a1f-803d-bca8781e95f7",
        "_uuid": "6bc867d4ef7ec3dcc547619cb91ae987151d4ebd",
        "id": "Ry_3Y3cvreXA"
      },
      "execution_count": null,
      "cell_type": "code",
      "source": [
        "# Plotting the Scatter plot\n",
        "import matplotlib.pyplot as plt\n",
        "plt.scatter(featuresAll, targets, color='red', alpha =1.0)\n",
        "plt.rcParams['figure.figsize'] = [10,8]\n",
        "plt.title('Iris Dataset scatter Plot')\n",
        "plt.xlabel('Features')\n",
        "plt.ylabel('Targets')\n"
      ],
      "outputs": []
    },
    {
      "metadata": {
        "_cell_guid": "ba1cf3a3-0b68-480f-909d-fde67f7dba14",
        "_uuid": "5f0b0ca9168acc8a93875550a72d87731a4884be",
        "id": "SqECfBuTreXB"
      },
      "source": [
        "**1a) Scatter Plot with Iris Dataset (Relationship between Sepal Length and Sepal Width) # Method 1**"
      ],
      "cell_type": "markdown"
    },
    {
      "metadata": {
        "_cell_guid": "a75573bd-8f20-43f3-98ec-850363f198eb",
        "_uuid": "c4cb63cd9ddc5c2eb40add0091b884de925d9b8b",
        "id": "rHK5maH5reXB"
      },
      "execution_count": null,
      "cell_type": "code",
      "source": [
        "#Finding the relationship between Sepal Length and Sepal width\n",
        "featuresAll = []\n",
        "targets = []\n",
        "for feature in features:\n",
        "    featuresAll.append(feature[0]) #Sepal length\n",
        "    targets.append(feature[1]) #sepal width\n",
        "\n",
        "groups = ('Iris-setosa','Iris-versicolor','Iris-virginica')\n",
        "colors = ('blue', 'green','red')\n",
        "data = ((featuresAll[:50], targets[:50]), (featuresAll[50:100], targets[50:100]),\n",
        "        (featuresAll[100:150], targets[100:150]))\n",
        "\n",
        "for item, color, group in zip(data,colors,groups):\n",
        "    #item = (featuresAll[:50], targets[:50]), (featuresAll[50:100], targets[50:100]), (featuresAll[100:150], targets[100:150])\n",
        "    x, y = item\n",
        "    plt.scatter(x, y,color=color,alpha=1)\n",
        "    plt.title('Iris Dataset scatter Plot')\n",
        "plt.xlabel('sepal length')\n",
        "plt.ylabel('Sepal width')\n",
        "plt.show()\n"
      ],
      "outputs": []
    },
    {
      "metadata": {
        "_cell_guid": "fcb38209-be97-46ea-9de4-5e89feccb85d",
        "_uuid": "a5da6ac83b9649fc6f02e6ed3c397444d5fb65b3",
        "id": "N2UJJbzIreXB"
      },
      "source": [
        "**1b) Scatter Plot with Iris Dataset (Relationship between Petal Length and Petal Width) # Method 1  **"
      ],
      "cell_type": "markdown"
    },
    {
      "metadata": {
        "_cell_guid": "4de5e246-8bda-49ec-89cf-3b0b9e73e522",
        "_uuid": "3bbc8a3726fb5fe4385dbc2065b8db3aadcd3d45",
        "id": "ZO6FWGimreXC"
      },
      "execution_count": null,
      "cell_type": "code",
      "source": [
        "#Finding the relationship between Petal Length and Petal width\n",
        "featuresAll = []\n",
        "targets = []\n",
        "for feature in features:\n",
        "    featuresAll.append(feature[2]) #Petal length\n",
        "    targets.append(feature[3]) #Petal width\n",
        "\n",
        "groups = ('Iris-setosa','Iris-versicolor','Iris-virginica')\n",
        "colors = ('blue', 'green','red')\n",
        "data = ((featuresAll[:50], targets[:50]), (featuresAll[50:100], targets[50:100]),\n",
        "        (featuresAll[100:150], targets[100:150]))\n",
        "\n",
        "for item, color, group in zip(data,colors,groups):\n",
        "    #item = (featuresAll[:50], targets[:50]), (featuresAll[50:100], targets[50:100]), (featuresAll[100:150], targets[100:150])\n",
        "    x0, y0 = item\n",
        "    plt.scatter(x0, y0,color=color,alpha=1)\n",
        "    plt.title('Iris Dataset scatter Plot')\n",
        "plt.xlabel('Petal length')\n",
        "plt.ylabel('Petal width')\n",
        "plt.show()"
      ],
      "outputs": []
    },
    {
      "metadata": {
        "_cell_guid": "fe62c0a9-aa1d-4ac9-95c5-8c8550bc4ec5",
        "_uuid": "52ccf1235e7eba992ae2f88ea98d93f5556fd79c",
        "id": "MyvneZhJreXC"
      },
      "source": [
        "  **2. K - Nearest Neighbours (KNN) Algorithm**"
      ],
      "cell_type": "markdown"
    },
    {
      "metadata": {
        "_cell_guid": "52f3af2e-9e73-4ad9-8415-590f04d60ccd",
        "_uuid": "5c56da09b3e113f1efc1deae91ef1ae102dcd442",
        "id": "jG_TOVwrreXC"
      },
      "source": [
        "**sklearn.neighbors** provides functionality for unsupervised and supervised neighbors-based learning methods. **Supervised neighbors-based learning** comes in two flavors: classification for data with discrete labels, and regression for data with continuous labels. **Unsupervised nearest neighbors** is the foundation of many other learning methods, notably manifold learningand spectral clustering.\n",
        "\n",
        "Despite its simplicity, nearest neighbors has been successful in a large number of classification and regression problems, including handwritten digits or satellite image scenes. Being a non-parametric method, it is often successful in classification situations where the decision boundary is very irregular."
      ],
      "cell_type": "markdown"
    },
    {
      "metadata": {
        "_cell_guid": "92436d30-4bba-4b60-b78d-7ce390ed8942",
        "_uuid": "131853051fa134fbf0887bff7816ef2764f2631d",
        "id": "LRTlrXIPreXD"
      },
      "execution_count": null,
      "cell_type": "code",
      "source": [
        "import pandas as pd\n",
        "iris = load_iris()\n",
        "ir = pd.DataFrame(iris.data)\n",
        "ir.columns = iris.feature_names\n",
        "ir['CLASS'] = iris.target\n",
        "ir.head()"
      ],
      "outputs": []
    },
    {
      "metadata": {
        "_cell_guid": "db69f5ed-802f-40de-a8be-56366aeb943f",
        "_uuid": "5bfe0edd98bf6aaa16b0c12692a3f689bee91d74",
        "id": "03VlkLVJreXE"
      },
      "source": [
        "The classes in **sklearn.neighbors** can handle either Numpy arrays or scipy.sparse matrices as input. For dense matrices, a large number of possible distance metrics are supported."
      ],
      "cell_type": "markdown"
    },
    {
      "metadata": {
        "_cell_guid": "a64ccda1-c056-4654-b603-c3bddb67b165",
        "_uuid": "e0531f6e4607e113f10bec4c342252e6f97dd467",
        "id": "2asM05qzreXE"
      },
      "execution_count": null,
      "cell_type": "code",
      "source": [
        "from sklearn.neighbors import NearestNeighbors\n",
        "nn = NearestNeighbors(5) #The arguements specify to return the Fast 5 most among the dataset\n",
        "nn.fit(iris.data)"
      ],
      "outputs": []
    },
    {
      "metadata": {
        "_cell_guid": "dcf2e054-aeed-4cc7-b6ec-00604e3936d8",
        "_uuid": "56864caab10352720c16a6fd1fbf5b2d6f3060a0",
        "id": "4QN6QXEureXE"
      },
      "execution_count": null,
      "cell_type": "code",
      "source": [
        "ir.describe()"
      ],
      "outputs": []
    },
    {
      "metadata": {
        "_cell_guid": "d1f03fc6-9e4a-4a8f-ba34-b057ea3feb73",
        "_uuid": "81059d3791e08c3cb11353c19dcb299b792a4f3b",
        "id": "q01ZaxoXreXF"
      },
      "execution_count": null,
      "cell_type": "code",
      "source": [
        "#creating a test data\n",
        "import numpy as np\n",
        "test = np.array([5.4,2,2,2.3])\n",
        "test1 = test.reshape(1,-1)\n",
        "test1.shape"
      ],
      "outputs": []
    },
    {
      "metadata": {
        "_cell_guid": "b28ff599-58ff-4a9d-9d5a-063ef60d57fb",
        "_uuid": "0566114feb54cca5f81cea45a838f3100ecd8120",
        "id": "cHIV2TRXreXF"
      },
      "execution_count": null,
      "cell_type": "code",
      "source": [
        "nn.kneighbors(test1,5)"
      ],
      "outputs": []
    },
    {
      "metadata": {
        "_cell_guid": "e88014ab-df9b-4769-8441-080daa053975",
        "_uuid": "32968836e6121c2006e81a324308e2f6315e5d53",
        "scrolled": true,
        "id": "RIGsmdWcreXG"
      },
      "execution_count": null,
      "cell_type": "code",
      "source": [
        "ir.ix[[98, 93, 57, 60, 79],]"
      ],
      "outputs": []
    },
    {
      "metadata": {
        "_cell_guid": "0d7a40ed-0a6f-49b6-8eb7-5ac51b85d2e3",
        "_uuid": "6948193dd371a267c1d9f32b410b3f207e033101",
        "id": "9Uk9M8l3reXG"
      },
      "source": [
        "**3. KNeighborsClassifier Algorithm**"
      ],
      "cell_type": "markdown"
    },
    {
      "metadata": {
        "_cell_guid": "fefe7f37-009b-4e37-a063-bbf3deeec38d",
        "_uuid": "1833a4e50c66e43d4026dad09d1e5d574fdc48ce",
        "id": "0nEOpUKFreXG"
      },
      "execution_count": null,
      "cell_type": "code",
      "source": [
        "import numpy as np\n",
        "import matplotlib.pyplot as plt\n",
        "from matplotlib.colors import ListedColormap\n",
        "from sklearn import neighbors, datasets\n",
        "\n",
        "n_neighbors = 15\n",
        "\n",
        "# we only take the first two features. We could avoid this ugly\n",
        "# slicing by using a two-dim dataset\n",
        "X = iris.data[:, :2]\n",
        "y = iris.target\n",
        "\n",
        "h = .02  # step size in the mesh\n",
        "\n",
        "# Create color maps\n",
        "cmap_light = ListedColormap(['#FFAAAA', '#AAFFAA', '#AAAAFF'])\n",
        "cmap_bold = ListedColormap(['#FF0000', '#00FF00', '#0000FF'])\n",
        "\n",
        "for weights in ['uniform', 'distance']:\n",
        "    # we create an instance of Neighbours Classifier and fit the data.\n",
        "    clf = neighbors.KNeighborsClassifier(n_neighbors, weights=weights)\n",
        "    clf.fit(X, y)\n",
        "\n",
        "    # Plot the decision boundary. For that, we will assign a color to each\n",
        "    # point in the mesh [x_min, x_max]x[y_min, y_max].\n",
        "    x_min, x_max = X[:, 0].min() - 1, X[:, 0].max() + 1\n",
        "    y_min, y_max = X[:, 1].min() - 1, X[:, 1].max() + 1\n",
        "    xx, yy = np.meshgrid(np.arange(x_min, x_max, h),\n",
        "                         np.arange(y_min, y_max, h))\n",
        "    Z = clf.predict(np.c_[xx.ravel(), yy.ravel()])\n",
        "\n",
        "    # Put the result into a color plot\n",
        "    Z = Z.reshape(xx.shape)\n",
        "    plt.figure()\n",
        "    plt.pcolormesh(xx, yy, Z, cmap=cmap_light)\n",
        "\n",
        "    # Plot also the training points\n",
        "    plt.scatter(X[:, 0], X[:, 1], c=y, cmap=cmap_bold,\n",
        "                edgecolor='k', s=20)\n",
        "    plt.xlim(xx.min(), xx.max())\n",
        "    plt.ylim(yy.min(), yy.max())\n",
        "    plt.title(\"3-Class classification (k = %i, weights = '%s')\"\n",
        "              % (n_neighbors, weights))\n",
        "\n",
        "plt.show()"
      ],
      "outputs": []
    },
    {
      "metadata": {
        "_cell_guid": "b2d4765a-027d-4caf-9603-1242b44ba019",
        "_uuid": "29eeaf03da2e95fe9a59d11a186c7d8490220cc8",
        "id": "NM2RqxefreXG"
      },
      "source": [
        "**KNN Classifiers Algorithm - How it works? - With Easy explanation**"
      ],
      "cell_type": "markdown"
    },
    {
      "metadata": {
        "_cell_guid": "107233ab-8ade-4e16-8c6e-7629f7dc35d8",
        "_uuid": "9cc9b0d00ab170988eac841d4749220331d60939",
        "collapsed": true,
        "id": "897WmaaQreXH"
      },
      "execution_count": null,
      "cell_type": "code",
      "source": [
        "from sklearn.neighbors import KNeighborsClassifier"
      ],
      "outputs": []
    },
    {
      "metadata": {
        "_cell_guid": "90750687-faf7-4b56-8840-23f1642c83a4",
        "_uuid": "ed98edf808e866f48096871689d1e246a8b774c8",
        "collapsed": true,
        "id": "JakvX0qfreXH"
      },
      "execution_count": null,
      "cell_type": "code",
      "source": [
        "knn = KNeighborsClassifier(n_neighbors=1)"
      ],
      "outputs": []
    },
    {
      "metadata": {
        "_cell_guid": "c72d42e8-daa2-4ac0-9e2e-74b8f2b28d56",
        "_uuid": "4ed1a3ccae267df091e8ef1c9251de89015b2085",
        "id": "arHoBQLOreXH"
      },
      "execution_count": null,
      "cell_type": "code",
      "source": [
        "print (knn)"
      ],
      "outputs": []
    },
    {
      "metadata": {
        "_cell_guid": "63580e24-6b8b-4039-94f5-64f3be692b32",
        "_uuid": "a2a3b9df8338e83eb54a389058858626e4427517",
        "collapsed": true,
        "id": "Z_v59-u9reXI"
      },
      "execution_count": null,
      "cell_type": "code",
      "source": [
        "import numpy as np\n",
        "X1 = np.asarray(featuresAll)\n",
        "X1 = X1.reshape(-1,1)"
      ],
      "outputs": []
    },
    {
      "metadata": {
        "_cell_guid": "d1f454ba-95ef-4d80-b704-e550c7652fd6",
        "_uuid": "b29757d449342d30a8636f5a25d65d5de675e085",
        "id": "5bv_N7nireXI"
      },
      "execution_count": null,
      "cell_type": "code",
      "source": [
        "X1.shape"
      ],
      "outputs": []
    },
    {
      "metadata": {
        "_cell_guid": "2616cb3a-e64a-4f02-b160-9b6d83051c13",
        "_uuid": "5cb4afb5913ec353e057220c39b59b4a223135cf",
        "id": "l35Pp-OTreXJ"
      },
      "execution_count": null,
      "cell_type": "code",
      "source": [
        "y = iris.target\n",
        "\n",
        "y.shape"
      ],
      "outputs": []
    },
    {
      "metadata": {
        "_cell_guid": "a7d39d4e-f27d-4e0d-ac32-1cbd719f6fce",
        "_uuid": "94aa1c118f7509351d76d296369c22600841e99c",
        "scrolled": true,
        "id": "YHHhtLi9reXJ"
      },
      "execution_count": null,
      "cell_type": "code",
      "source": [
        "knn.fit(X1, y)"
      ],
      "outputs": []
    },
    {
      "metadata": {
        "_cell_guid": "fdc2abcf-6a8f-4cef-b499-4f4dbd35c049",
        "_uuid": "b2139cab9180b3ac0ba8c6f968566d7ec07c827e",
        "id": "dhRBNlzhreXK"
      },
      "execution_count": null,
      "cell_type": "code",
      "source": [
        "import numpy as np\n",
        "print (knn.predict([[6.4]]))"
      ],
      "outputs": []
    },
    {
      "metadata": {
        "_cell_guid": "1696687d-10d7-4004-832d-1e6a60d9b1de",
        "_uuid": "8af17cd444fee0ad3b0dfff537093b49cf78eb2d",
        "collapsed": true,
        "id": "iykjtNRNreXK"
      },
      "execution_count": null,
      "cell_type": "code",
      "source": [
        "knn = KNeighborsClassifier(n_neighbors=5)"
      ],
      "outputs": []
    },
    {
      "metadata": {
        "_cell_guid": "8e1f970d-f83f-4951-8e02-bc70ec84cc73",
        "_uuid": "04ae022c072d2541095d8d08dc11e5dedb18a134",
        "id": "b1AeUBLlreXK"
      },
      "execution_count": null,
      "cell_type": "code",
      "source": [
        "knn.fit(X1, y)"
      ],
      "outputs": []
    },
    {
      "metadata": {
        "_cell_guid": "9fc4f66e-6568-4bcb-ae06-0c7ed9f3fa16",
        "_uuid": "b0785a4789d89a3f71e0f32c73df1e75acb51faf",
        "id": "mPEqNA_greXL"
      },
      "execution_count": null,
      "cell_type": "code",
      "source": [
        "print (knn.predict([[3.4]]))"
      ],
      "outputs": []
    },
    {
      "metadata": {
        "_cell_guid": "5a37c803-8c8e-49a5-9689-31234d7da248",
        "_uuid": "06c03dafd45199200fb3ed57d8854923b76959b2",
        "id": "uUchytHxreXM"
      },
      "execution_count": null,
      "cell_type": "code",
      "source": [
        "print (knn.predict(np.column_stack([[1.,6.1,3.2,4.2]])))"
      ],
      "outputs": []
    },
    {
      "metadata": {
        "_cell_guid": "fe51f468-a537-4cc6-ad51-38da0cb4d931",
        "_uuid": "ed16638e69e4f0c307e687270e31734094dbaae3",
        "id": "PjmVdrhJreXN"
      },
      "source": [
        "**Linear regression**"
      ],
      "cell_type": "markdown"
    },
    {
      "metadata": {
        "_cell_guid": "f2db0a22-51cc-4d49-aef4-a0a959fe28e9",
        "_uuid": "339b07ce3f0b5cd0282ac94f8b7d2fd6c088b7bd",
        "id": "ARAHk0iareXN"
      },
      "source": [
        "We will start with the most familiar linear regression, a straight-line fit to data. A straight-line fit is a model of the form\n",
        "y=ax+b\n",
        "where a is commonly known as the slope, and b is commonly known as the intercept.\n",
        "\n",
        "We can use Scikit-Learn's LinearRegression estimator to fit this data and construct the best-fit line:"
      ],
      "cell_type": "markdown"
    },
    {
      "metadata": {
        "_cell_guid": "778c2329-8b67-4912-8bc1-4974aa953c20",
        "_uuid": "e3ac0007ce187a2ded4830bdce86b6283872e705",
        "collapsed": true,
        "id": "sM5sp-Q8reXO"
      },
      "execution_count": null,
      "cell_type": "code",
      "source": [
        "from sklearn.linear_model import LinearRegression"
      ],
      "outputs": []
    },
    {
      "metadata": {
        "_cell_guid": "3b0175df-56c3-4dfa-8e0a-e12a1997a045",
        "_uuid": "60b8a6ee52142fb10be341d9fe620484e0e1b70e",
        "id": "l-eW1N7jreXO"
      },
      "execution_count": null,
      "cell_type": "code",
      "source": [
        "model = LinearRegression(fit_intercept=True)\n",
        "model"
      ],
      "outputs": []
    },
    {
      "metadata": {
        "_cell_guid": "c865a647-4ec5-4a4c-b1eb-5248ea09e49d",
        "_uuid": "94cf41550d1cda196c0830b2802d816986e1b8a2",
        "id": "wwAV-XSIreXP"
      },
      "execution_count": null,
      "cell_type": "code",
      "source": [
        "import numpy as np\n",
        "XX = np.asarray(featuresAll)\n",
        "X2 = XX[:, np.newaxis]\n",
        "X2\n",
        "X2.shape"
      ],
      "outputs": []
    },
    {
      "metadata": {
        "_cell_guid": "1ce10bcf-435d-4d1d-8acc-85805a47e0ba",
        "_uuid": "3e3085c89816cf6bad7212f774097c433ca0d84c",
        "id": "ztlykwLIreXP"
      },
      "execution_count": null,
      "cell_type": "code",
      "source": [
        "y2 = iris.target\n",
        "y2.shape\n"
      ],
      "outputs": []
    },
    {
      "metadata": {
        "_cell_guid": "ec93de20-00da-4c2a-a743-67550e673244",
        "_uuid": "977ecdcfbbf189867e3cf3d5ac5cd1e746d04f5c",
        "id": "cYlic5kfreXV"
      },
      "execution_count": null,
      "cell_type": "code",
      "source": [
        "model.fit(X2, y2)"
      ],
      "outputs": []
    },
    {
      "metadata": {
        "_cell_guid": "0bac4638-5c61-4130-bd70-bd7a47c7fb6a",
        "_uuid": "2159ca2f2dc7e33b2c561b8179b2e0d3159c75cb",
        "id": "Czso9xYSreXX"
      },
      "source": [
        "The slope and intercept of the data are contained in the model's fit parameters, which in Scikit-Learn are always marked by a trailing underscore. Here the relevant parameters are coef_ and intercept_:"
      ],
      "cell_type": "markdown"
    },
    {
      "metadata": {
        "_cell_guid": "6fb02998-0f92-4159-9b01-55319f921320",
        "_uuid": "d0995deb38506f9d4b569de268e59ac6fa911684",
        "id": "wZTSjIm-reXX"
      },
      "execution_count": null,
      "cell_type": "code",
      "source": [
        "model.coef_"
      ],
      "outputs": []
    },
    {
      "metadata": {
        "_cell_guid": "e387374b-68c0-4a65-bae1-ada19601a101",
        "_uuid": "904249d295ecfa458b29efe2f60b4996a4c23662",
        "id": "IXKOwIjfreXY"
      },
      "execution_count": null,
      "cell_type": "code",
      "source": [
        "model.intercept_"
      ],
      "outputs": []
    },
    {
      "metadata": {
        "_cell_guid": "c71f1f75-305b-4395-9dc3-4ba6e94ea1fd",
        "_uuid": "d5e5a5f783cf2a8a5a2fe95c14cc3fb7540496d6",
        "id": "MCxu__TIreXY"
      },
      "execution_count": null,
      "cell_type": "code",
      "source": [
        "Xfit = np.random.randint(8,size=(150))\n",
        "Xfit.astype(float)\n",
        "Xfit = Xfit[:, np.newaxis]\n",
        "Xfit.shape"
      ],
      "outputs": []
    },
    {
      "metadata": {
        "_cell_guid": "69b6558d-64ef-4d6a-a5b6-f4014471dec0",
        "_uuid": "a29b0f62e12783e9841d48f5a95eed0af75bce1f",
        "id": "KohFgDXtreXY"
      },
      "execution_count": null,
      "cell_type": "code",
      "source": [
        "yfit = (model.predict(Xfit))\n",
        "yfit.shape"
      ],
      "outputs": []
    },
    {
      "metadata": {
        "_cell_guid": "29c1621b-444e-4690-9f46-e53f5608699a",
        "_uuid": "0e8ca1935a28e70de7c8b6b7872adc77f4e0e862",
        "id": "vl4dXkRYreXZ"
      },
      "execution_count": null,
      "cell_type": "code",
      "source": [
        "plt.scatter(X2, y2)\n",
        "plt.plot(Xfit, yfit)"
      ],
      "outputs": []
    },
    {
      "metadata": {
        "id": "GNGFykz5reXZ"
      },
      "source": [
        "**Regression**\n",
        "\n",
        "In statistical modeling, regression analysis is a set of statistical processes for estimating the relationships among variables. It includes many techniques for modeling and analyzing several variables, when the focus is on the relationship between a dependent variable and one or more independent variables (or 'predictors'). More specifically, regression analysis helps one understand how the typical value of the dependent variable (or 'criterion variable') changes when any one of the independent variables is varied, while the other independent variables are held fixed.\n",
        "\n",
        "One trick you can use to adapt linear regression to nonlinear relationships between variables is to transform the data according to basis functions. We have seen one version of this before, in the PolynomialRegression pipeline used in Hyperparameters and Model Validation and Feature Engineering. The idea is to take our multidimensional linear model:\n",
        "y=a0+a1x1+a2x2+a3x3+⋯\n",
        "and build the x_1, x_2, x_3, and so on, from our single-dimensional input x."
      ],
      "cell_type": "markdown"
    },
    {
      "metadata": {
        "id": "e4TGSlt1reXa"
      },
      "source": [
        "This polynomial projection is useful enough that it is built into Scikit-Learn, using the PolynomialFeatures transformer:"
      ],
      "cell_type": "markdown"
    },
    {
      "metadata": {
        "_cell_guid": "d91ff619-9c1a-466b-95b5-e4b650974372",
        "_uuid": "ff039c91fde0bd70ff7b9470f169436de464238a",
        "id": "9tclivGpreXa"
      },
      "execution_count": null,
      "cell_type": "code",
      "source": [
        "from sklearn.preprocessing import PolynomialFeatures\n",
        "poly = PolynomialFeatures(150, include_bias=False)\n",
        "poly.fit_transform(X2)"
      ],
      "outputs": []
    },
    {
      "metadata": {
        "_cell_guid": "7726db75-9ca7-4ae0-ad61-1977072b8927",
        "_uuid": "7697f5c8aaa4fbea4fd6de92f3cfda7dad7cb443",
        "collapsed": true,
        "id": "LbZxjXOireXa"
      },
      "execution_count": null,
      "cell_type": "code",
      "source": [
        "from sklearn.pipeline import make_pipeline\n",
        "poly_model = make_pipeline(PolynomialFeatures(3),\n",
        "                           LinearRegression())\n",
        "poly_model.fit(X2, y2)\n",
        "yfit = poly_model.predict(Xfit)"
      ],
      "outputs": []
    },
    {
      "metadata": {
        "id": "zkYX266JreXb"
      },
      "execution_count": null,
      "cell_type": "code",
      "source": [
        "#Our linear model, through the use of 3rd-order polynomial basis functions, can provide a fit to this non-linear data\n",
        "plt.scatter(X2, y2)\n",
        "plt.plot(Xfit, yfit);"
      ],
      "outputs": []
    },
    {
      "metadata": {
        "_cell_guid": "dea2a5ef-3679-4b26-b6ca-c50721f2a337",
        "_uuid": "d94e144c81ffbc27e2782b818d4912d5c6287c5e",
        "id": "QInSDRX-reXb"
      },
      "source": [
        "**How the length and width vary according to the species**"
      ],
      "cell_type": "markdown"
    },
    {
      "metadata": {
        "_cell_guid": "e8477eb9-2ca8-4ab1-961d-fe7102ef13f8",
        "_uuid": "fb4498985a08f15fd285c7bb82410d50b528bc93",
        "id": "bfZLh8G4reXb"
      },
      "execution_count": null,
      "cell_type": "code",
      "source": [
        "import pandas as pd\n",
        "iris1 = pd.read_csv(\"../input/Iris.csv\") #load the dataset\n",
        "iris1.head(5)"
      ],
      "outputs": []
    },
    {
      "metadata": {
        "_cell_guid": "fae768ed-70f5-4dd3-824b-50a89c8bc270",
        "_uuid": "7204d57b1ce610dba01d5f165efbe4a5a865159b",
        "id": "6-rj1cd_reXb"
      },
      "source": [
        "**1c) Scatter Plot with Iris Dataset (Relationship between Sepal Length and SepalWidth) # Method 1  **"
      ],
      "cell_type": "markdown"
    },
    {
      "metadata": {
        "_cell_guid": "4411c2c3-e1d4-486a-9d8f-9c3546bfa754",
        "_uuid": "d995dc0e374b0460ce8f6c22e5cf0b39a9eaaaf3",
        "id": "3uh6pq9HreXc"
      },
      "execution_count": null,
      "cell_type": "code",
      "source": [
        "iris1.plot(kind ='scatter', x ='SepalLengthCm', y ='SepalWidthCm')\n",
        "plt.show()"
      ],
      "outputs": []
    },
    {
      "metadata": {
        "_cell_guid": "dfdb170d-d8de-46ac-b1e3-d11515952ff1",
        "_uuid": "63d7760afc82282332c52c915f5fa2679cff1867",
        "id": "mW1wV53jreXd"
      },
      "source": [
        "**1d) Scatter Plot with Iris Dataset (Relationship between Petal Length and Petal Width) Method 1  **"
      ],
      "cell_type": "markdown"
    },
    {
      "metadata": {
        "_cell_guid": "59c354c6-6a6a-4c10-bca7-a0f3844c283f",
        "_uuid": "3c15c74f6faea8952a038999a41fcf9673e8dcf7",
        "id": "Zc1waSVLreXd"
      },
      "execution_count": null,
      "cell_type": "code",
      "source": [
        "iris1.plot(kind ='scatter', x ='PetalLengthCm', y ='PetalWidthCm')\n",
        "plt.show()"
      ],
      "outputs": []
    },
    {
      "metadata": {
        "_cell_guid": "00681957-6421-4431-a141-43ed15aea409",
        "_uuid": "3233eaa0d03cf3ee0fefae158590bc193188198f",
        "id": "luWzp8nVreXe"
      },
      "source": [
        "**Histograpm Plot of Iris Data **"
      ],
      "cell_type": "markdown"
    },
    {
      "metadata": {
        "_cell_guid": "fcab5e79-1a2d-45ea-945c-c372650b1805",
        "_uuid": "73b1c932ae8469dab3a58e609a0df28eeb314756",
        "scrolled": true,
        "id": "F3TfGAWRreXe"
      },
      "execution_count": null,
      "cell_type": "code",
      "source": [
        "exclude = ['Id']\n",
        "iris1.ix[:, iris1.columns.difference(exclude)].hist()\n",
        "plt.figure(figsize=(15,10))\n",
        "plt.show()"
      ],
      "outputs": []
    },
    {
      "metadata": {
        "_cell_guid": "9a5896f6-75c6-4b60-97dd-3ba91e87f80f",
        "_uuid": "e237b3249b312d2aa7feebd133aecdedd456d032",
        "id": "Yn1lKn3OreXe"
      },
      "source": [
        "**Violin Plot**"
      ],
      "cell_type": "markdown"
    },
    {
      "metadata": {
        "_cell_guid": "aa6a1050-3af8-4288-9eb4-a4eda3b35d42",
        "_uuid": "6b8f56f976a48d1b2a970d68b4ca5cbcd61a168f",
        "id": "yCerk3eIreXf"
      },
      "execution_count": null,
      "cell_type": "code",
      "source": [
        "import seaborn as sns\n",
        "plt.figure(figsize=(15,10))\n",
        "plt.subplot(2,2,1)\n",
        "sns.violinplot(x='Species',y='PetalLengthCm',data=iris1)\n",
        "plt.subplot(2,2,2)\n",
        "sns.violinplot(x='Species',y='PetalWidthCm',data=iris1)\n",
        "plt.subplot(2,2,3)\n",
        "sns.violinplot(x='Species',y='SepalLengthCm',data=iris1)\n",
        "plt.subplot(2,2,4)\n",
        "sns.violinplot(x='Species',y='SepalWidthCm',data=iris1)"
      ],
      "outputs": []
    },
    {
      "metadata": {
        "_cell_guid": "6c702e8c-ef20-4a3a-8efa-670fe2bbd36d",
        "_uuid": "6a16db4f721c316f949cc76c098b5a4bc3190658",
        "id": "6eFMaVwNreXf"
      },
      "source": [
        "Now, when we train any algorithm, the number of features and their correlation plays an important role. If there are features and many of the features are highly correlated, then training an algorithm with all the featues will reduce the accuracy. Thus features selection should be done carefully. This dataset has less featues but still we will see the correlation."
      ],
      "cell_type": "markdown"
    },
    {
      "metadata": {
        "_cell_guid": "241edeb0-8582-4b77-a4b6-1e0e642ea901",
        "_uuid": "0b12fe439eaf507627ac7a3af60cd2b6fce829aa",
        "id": "ComyVTlQreXf"
      },
      "source": [
        "**IRIS Correlation Matrix**"
      ],
      "cell_type": "markdown"
    },
    {
      "metadata": {
        "_cell_guid": "09df3ce0-192a-42b1-8220-de26159feebe",
        "_uuid": "f827442c6a5e603d4b5bf4e39e07e68261255e54",
        "id": "calMDhJ4reXg"
      },
      "execution_count": null,
      "cell_type": "code",
      "source": [
        "corr = iris1.corr()\n",
        "corr"
      ],
      "outputs": []
    },
    {
      "metadata": {
        "_cell_guid": "d01e6a0b-8ad0-4400-8c00-1eae92e2da7a",
        "_uuid": "c0ee5435fb461050762be880578f81fc912cce17",
        "id": "5WtbjpM7reXg"
      },
      "execution_count": null,
      "cell_type": "code",
      "source": [
        "# import correlation matrix to see parametrs which best correlate each other\n",
        "# According to the correlation matrix results Petal LengthCm and\n",
        "#PetalWidthCm have positive correlation which is proved by the scatter plot discussed above\n",
        "\n",
        "import seaborn as sns\n",
        "import pandas as pd\n",
        "corr = iris1.corr()\n",
        "plt.figure(figsize=(10,8))\n",
        "sns.heatmap(corr,\n",
        "            xticklabels=corr.columns.values,\n",
        "            yticklabels=corr.columns.values,\n",
        "           cmap='viridis', annot=True)\n",
        "plt.show()"
      ],
      "outputs": []
    },
    {
      "metadata": {
        "_cell_guid": "8bce75f6-8534-4c8b-8352-102dc859a40d",
        "_uuid": "9dad1a0c3fcfcd067d83b6d50ef5620e4e799cc8",
        "id": "KEotRnzwreXg"
      },
      "source": [
        "**Supervised learning example: Iris classification**"
      ],
      "cell_type": "markdown"
    },
    {
      "metadata": {
        "_cell_guid": "2bfcca88-d9f0-4568-95fc-40d335b70ed4",
        "_uuid": "bc8b62d3d0f45c48650c8e4233426ae8bc609068",
        "collapsed": true,
        "id": "z4xAX1direXh"
      },
      "execution_count": null,
      "cell_type": "code",
      "source": [
        "# I prefer to use train_test_split for cross-validation\n",
        "# This piece will prove us if we have overfitting\n",
        "X3 = iris1.iloc[:, 0:5]\n",
        "Y3 = iris1['Species']"
      ],
      "outputs": []
    },
    {
      "metadata": {
        "_cell_guid": "d8a07d17-2024-4533-8e2e-b2fb0027edfc",
        "_uuid": "0d89000dd6f1e3e83a3cc52bf4c5d641052a567c",
        "id": "uPCoUFeEreXh"
      },
      "source": [
        "We would like to evaluate the model on data it has not seen before, and so we will split the data into a training set and a testing set. This could be done by hand, but it is more convenient to use the **train_test_split** utility function"
      ],
      "cell_type": "markdown"
    },
    {
      "metadata": {
        "_cell_guid": "528a5500-7292-4098-963d-a0de55df4890",
        "_uuid": "8a5b763bf69535b207a00a78917ff1adb25f6e47",
        "id": "xrAmTu38reXh"
      },
      "execution_count": null,
      "cell_type": "code",
      "source": [
        "from sklearn.cross_validation import train_test_split\n",
        "X3_train, X3_test, y_train, y_test = train_test_split(X3, Y3, test_size=0.4, random_state=0)\n",
        "print(\" X3_train\",X3_train)\n",
        "print(\"X3_test\",X3_test)\n",
        "print(\"y_train\",y_train)\n",
        "print(\"y_test\",y_test)"
      ],
      "outputs": []
    },
    {
      "metadata": {
        "_cell_guid": "c2c40d6b-3eb5-4186-9922-c1cb893fd464",
        "_uuid": "d824d06556d1f1c732e1fc586f8c932999176301",
        "id": "qVoA6yXyreXh"
      },
      "source": [
        "**With the data arranged, we can follow our recipe to predict the labels:**"
      ],
      "cell_type": "markdown"
    },
    {
      "metadata": {
        "_cell_guid": "ec607b08-0d22-433d-a3f4-705a7eb57a37",
        "_uuid": "15c83594b0640f6656ee77676b9e80c45f8cdf6b",
        "id": "j7fnPIk8reXi"
      },
      "execution_count": null,
      "cell_type": "code",
      "source": [
        "#Train and test model\n",
        "from sklearn.naive_bayes import GaussianNB\n",
        "model = GaussianNB()\n",
        "model = model.fit(X3_train ,y_train)\n",
        "y_model = model.predict(X3_test)\n",
        "y_model"
      ],
      "outputs": []
    },
    {
      "metadata": {
        "_cell_guid": "fd7cce0a-669e-421a-8e20-a3b48b01fdd8",
        "_uuid": "10544483c880b7c4957c05afcadcafcee7a22c42",
        "id": "jQ1aHD_WreXi"
      },
      "source": [
        "Finally, we can use the **accuracy_score** utility to see the fraction of predicted labels that match their true value:                 "
      ],
      "cell_type": "markdown"
    },
    {
      "metadata": {
        "_cell_guid": "763905b8-1cfb-441e-8129-45ec79bc5507",
        "_uuid": "311fc610897fe8de0f81351294df2289897be0a2",
        "id": "mDVbT74zreXi"
      },
      "execution_count": null,
      "cell_type": "code",
      "source": [
        "from sklearn.metrics import accuracy_score\n",
        "accuracy_score(y_test, y_model)"
      ],
      "outputs": []
    },
    {
      "metadata": {
        "_cell_guid": "8895336a-20e4-4d85-9d1a-c9879a170ddf",
        "_uuid": "86ec3bfc5cad6931201f03292cdc2cbcb1b3324a",
        "id": "kz4fyty4reXj"
      },
      "source": [
        "With an accuracy topping 96%, we see that even this very naive classification algorithm is effective for this particular dataset!"
      ],
      "cell_type": "markdown"
    },
    {
      "metadata": {
        "_cell_guid": "09ba92e0-1cc1-4694-a998-3f5a6e1c632a",
        "_uuid": "04192fc2ea88eedbcb8f0419ffc5412a485a1609",
        "id": "65nWiR4nreXj"
      },
      "source": [
        "** K Means Clustering in SciKit Learn with Iris Data**"
      ],
      "cell_type": "markdown"
    },
    {
      "metadata": {
        "_cell_guid": "2a134702-f604-4330-b084-2d8455130a4e",
        "_uuid": "429dfa3258a5c8bc294e2caebc5e1da870647541",
        "id": "3_gDrluSreXj"
      },
      "source": [
        "k-means clustering aims to partition n observations into k clusters in which each observation belongs to the cluster with the nearest mean, serving as a prototype of the cluster.\n",
        "\n",
        "The k-means algorithm searches for a pre-determined number of clusters within an unlabeled multidimensional dataset. It accomplishes this using a simple conception of what the optimal clustering looks like:\n",
        "\n",
        "The \"cluster center\" is the arithmetic mean of all the points belonging to the cluster.\n",
        "Each point is closer to its own cluster center than to other cluster centers. Those two assumptions are the basis of the k-means model."
      ],
      "cell_type": "markdown"
    },
    {
      "metadata": {
        "_cell_guid": "e0bb8351-7f17-49e0-9878-98bf2fe05656",
        "_uuid": "818a4e6303a78175aec216be8ef7ab102f3c30b6",
        "collapsed": true,
        "id": "HbU4xbBHreXj"
      },
      "execution_count": null,
      "cell_type": "code",
      "source": [
        "from sklearn.cluster import KMeans"
      ],
      "outputs": []
    },
    {
      "metadata": {
        "_cell_guid": "44230264-3b6f-4a55-83f4-d7af6f461da8",
        "_uuid": "e4e882efc40ed3e76fbd24428003c5d025f4a002",
        "collapsed": true,
        "id": "1bTpaVpNreXk"
      },
      "execution_count": null,
      "cell_type": "code",
      "source": [
        "km = KMeans(n_clusters=3, max_iter =1000)"
      ],
      "outputs": []
    },
    {
      "metadata": {
        "_cell_guid": "c163ebdd-835a-4955-8c2f-82858712777d",
        "_uuid": "a323332836b73f93d25aa46638a7ad11d670837d",
        "scrolled": true,
        "id": "Tpq9FlJJreXk"
      },
      "execution_count": null,
      "cell_type": "code",
      "source": [
        "X1.shape"
      ],
      "outputs": []
    },
    {
      "metadata": {
        "_cell_guid": "2e76090d-758c-4475-8a02-fc499851d455",
        "_uuid": "7b1920adce9ccac39839d9dc7602252c04dbed8a",
        "id": "CNdFESICreXl"
      },
      "execution_count": null,
      "cell_type": "code",
      "source": [
        "km.fit(iris.data)"
      ],
      "outputs": []
    },
    {
      "metadata": {
        "_cell_guid": "c4c252aa-d875-4027-8490-d4e3a6f2eadd",
        "_uuid": "7b730d7c10aeb2d815ee26adf0dde3e2fe8536aa",
        "id": "P2O9TgzFreXl"
      },
      "execution_count": null,
      "cell_type": "code",
      "source": [
        "km.cluster_centers_"
      ],
      "outputs": []
    },
    {
      "metadata": {
        "_cell_guid": "70303bc9-001a-4137-bc6d-492d4f674e9d",
        "_uuid": "75f7085cd803b45b1173f249aa70bce17bfee95b",
        "id": "hUn9RpllreXm"
      },
      "execution_count": null,
      "cell_type": "code",
      "source": [
        "km.labels_"
      ],
      "outputs": []
    },
    {
      "metadata": {
        "_cell_guid": "121c38e9-4ab4-49b4-acd6-172ec792880e",
        "_uuid": "2deb4f1708361561edea7f22a9096e8e005b86ac",
        "scrolled": true,
        "id": "B2Oy8uY_reXn"
      },
      "execution_count": null,
      "cell_type": "code",
      "source": [
        "iris1[' K Mean predicted label'] = km.labels_\n",
        "iris1"
      ],
      "outputs": []
    },
    {
      "metadata": {
        "_cell_guid": "2e78571a-3ee6-4c2c-a5a3-e33cb2e365eb",
        "_uuid": "9388f6ad1df35d9fe4bedda21a691ea65eee88c9",
        "scrolled": true,
        "id": "aRVxMNftreXo"
      },
      "execution_count": null,
      "cell_type": "code",
      "source": [
        "#First, let's generate a two-dimensional dataset containing four distinct blobs.\n",
        "#To emphasize that this is an unsupervised algorithm, we will leave the labels out of the visualization.\n",
        "from sklearn.datasets.samples_generator import make_blobs\n",
        "X1, y_true = make_blobs(n_samples=300, centers=4,\n",
        "                       cluster_std=0.60, random_state=0)\n",
        "plt.scatter(X1[:, 0], X1[:, 1], s=50);"
      ],
      "outputs": []
    },
    {
      "metadata": {
        "_cell_guid": "47749319-ac1b-4f2a-85b1-593517bc2132",
        "_uuid": "b45d6198a34901a203fc4361b589e32ea53c205f",
        "collapsed": true,
        "id": "dnI8Y9X4reXp"
      },
      "execution_count": null,
      "cell_type": "code",
      "source": [
        "#By eye, it is relatively easy to pick out the four clusters.\n",
        "#The k-means algorithm does this automatically, and in Scikit-Learn uses the typical estimator API:\n",
        "from sklearn.cluster import KMeans\n",
        "kmeans = KMeans(n_clusters=4)\n",
        "kmeans.fit(X1)\n",
        "y_kmeans = kmeans.predict(X1)"
      ],
      "outputs": []
    },
    {
      "metadata": {
        "_cell_guid": "6d925933-c4b9-4962-97dc-a05340194416",
        "_uuid": "52589d6e4442fe71d35f52c2b48c0af1b20d47ec",
        "id": "rZ2Qu1kXreXq"
      },
      "execution_count": null,
      "cell_type": "code",
      "source": [
        "#Let's visualize the results by plotting the data colored by these labels.\n",
        "#We will also plot the cluster centers as determined by the k-means estimator:\n",
        "plt.scatter(X1[:, 0], X1[:, 1], c=y_kmeans, s=50, cmap='viridis')\n",
        "centers = kmeans.cluster_centers_\n",
        "plt.scatter(centers[:, 0], centers[:, 1], c='black', s=200, alpha=0.5);"
      ],
      "outputs": []
    },
    {
      "metadata": {
        "_cell_guid": "570d6b1f-eea5-49f4-81ed-2a79cd8fe85c",
        "_uuid": "1cccc0ee58e6ff4c5def596a9b08a5ba5798b365",
        "id": "r5N6zUn2reXr"
      },
      "source": [
        "**Unsupervised learning example: Iris dimensionality**"
      ],
      "cell_type": "markdown"
    },
    {
      "metadata": {
        "_cell_guid": "dabb888e-85be-4a7d-b8e2-f32a84dc5476",
        "_uuid": "539ee6c3e50fb218830f78e220cfef104b682ed7",
        "id": "CeTd8QdVreXr"
      },
      "source": [
        "As an example of an unsupervised learning problem, let's take a look at reducing the dimensionality of the Iris data so as to more easily visualize it. Recall that the Iris data is four dimensional: there are four features recorded for each sample.\n",
        "\n",
        "The task of dimensionality reduction is to ask whether there is a suitable lower-dimensional representation that retains the essential features of the data. Often dimensionality reduction is used as an aid to visualizing data: after all, it is much easier to plot data in two dimensions than in four dimensions or higher!\n",
        "\n",
        "Principal component analysis- PCA which is a fast linear dimensionality reduction technique."
      ],
      "cell_type": "markdown"
    },
    {
      "metadata": {
        "_cell_guid": "1c6898e5-4990-4825-85bc-b5e5bbded776",
        "_uuid": "bc1c95d64e2e1c7cbce4ddb7addc39dd01dff7bd",
        "collapsed": true,
        "id": "xePUVloGreXr"
      },
      "execution_count": null,
      "cell_type": "code",
      "source": [
        "from sklearn.decomposition import PCA  # 1. Choose the model class\n",
        "model = PCA(n_components=2)  # 2. Instantiate the model with hyperparameters"
      ],
      "outputs": []
    },
    {
      "metadata": {
        "_cell_guid": "66ce64f8-7b28-4d5c-8e42-c3bcd386abe5",
        "_uuid": "adf27393503c7aa2e0de161790db8758c8f63e27",
        "id": "A70cVrRqreXs"
      },
      "execution_count": null,
      "cell_type": "code",
      "source": [
        "model.fit(X3)"
      ],
      "outputs": []
    },
    {
      "metadata": {
        "_cell_guid": "af3fb063-cd20-4d91-b62d-7512000726ca",
        "_uuid": "d364738f391af64d5d1c08f596ac8383f8187437",
        "id": "bc1qGCl0reXs"
      },
      "execution_count": null,
      "cell_type": "code",
      "source": [
        "X_2D = model.transform(X3) # 3. Fit to data. Notice y is not specified!\n",
        "X_2D"
      ],
      "outputs": []
    },
    {
      "metadata": {
        "_cell_guid": "df0d551e-fce7-4454-807d-fcfe65a239f1",
        "_uuid": "78f4ef3450c4e953505f61b2588fb2d88e28fcf7",
        "id": "AsUB57hLreXs"
      },
      "execution_count": null,
      "cell_type": "code",
      "source": [
        "X_2D.shape # 4. Transform the data to two dimensions"
      ],
      "outputs": []
    },
    {
      "metadata": {
        "_cell_guid": "c9381662-63e4-4748-8b75-25ec56a9273e",
        "_uuid": "7362503c3ee63b64d72236a2ef49a9cb006035fe",
        "id": "NTKdtL4JreXt"
      },
      "execution_count": null,
      "cell_type": "code",
      "source": [
        "X_2D[:, 0]"
      ],
      "outputs": []
    },
    {
      "metadata": {
        "_cell_guid": "9ad51615-fe27-4610-a587-01189e493275",
        "_uuid": "f62cba88583d8a5dc15f80c44c61bb8b54e02076",
        "id": "QRK2hVuJreXt"
      },
      "execution_count": null,
      "cell_type": "code",
      "source": [
        "X_2D[:, 1]"
      ],
      "outputs": []
    },
    {
      "metadata": {
        "_cell_guid": "f824db5b-6001-48ea-bae2-5c1df76e4eb7",
        "_uuid": "31b16350172442fde6165e0cec13e546e204b81c",
        "id": "In5pQfaoreXu"
      },
      "execution_count": null,
      "cell_type": "code",
      "source": [
        "plt.scatter(X[:, 0], X[:, 1], alpha=0.2)"
      ],
      "outputs": []
    },
    {
      "metadata": {
        "_cell_guid": "f331f0a7-4553-48d4-950d-506e5e8c62dd",
        "_uuid": "6451e1b3ca56a979d8a8d695136fc58f297c1a70",
        "id": "fGgIojXpreXu"
      },
      "source": [
        "**Pivot the Data with Iris Dataset**"
      ],
      "cell_type": "markdown"
    },
    {
      "metadata": {
        "_cell_guid": "6079a253-09cb-47aa-a50d-e6c928616724",
        "_uuid": "349bd482301a9a7c716fb0b43e8afe35694b997a",
        "id": "_Bk1E9IoreXu"
      },
      "execution_count": null,
      "cell_type": "code",
      "source": [
        "import pandas as pd\n",
        "iris1 = pd.read_csv(\"../input/Iris.csv\") #load the dataset\n",
        "iris1.head(10)"
      ],
      "outputs": []
    },
    {
      "metadata": {
        "_cell_guid": "bc244656-6717-43b4-bd2a-4fac720807ef",
        "_uuid": "6e614c791415b7b19784e34422a8459dcfb2d13d",
        "id": "UtTKrCY-reXu"
      },
      "source": [
        "**The simplest pivot table must have a dataframe and an index . In this case, let’s use the Species as our index.**"
      ],
      "cell_type": "markdown"
    },
    {
      "metadata": {
        "_cell_guid": "8c2ccd7a-912e-4630-aa91-8a8012c99cb3",
        "_uuid": "59a1c3e7726f27e56f232c5223afccc255710205",
        "id": "w_scTGmereXv"
      },
      "execution_count": null,
      "cell_type": "code",
      "source": [
        "pd.pivot_table(iris1,index=[\"Id\"])"
      ],
      "outputs": []
    },
    {
      "metadata": {
        "_cell_guid": "d066547d-1954-499a-9bb0-c29d339de768",
        "_uuid": "d451b0e6f589fbf00c50e7099d1a592e42c18865",
        "id": "IV8eaUz9reXv"
      },
      "source": [
        "**You can have multiple indexes as well. In fact, most of the pivot_table args can take multiple values via a list.**"
      ],
      "cell_type": "markdown"
    },
    {
      "metadata": {
        "_cell_guid": "af2c3d75-5fe0-4f0d-964b-0a854e9608b5",
        "_uuid": "0009d3f19f652b2459b08f15a0ec8e2d3b1b6c1d",
        "id": "yPOuF4qBreXv"
      },
      "execution_count": null,
      "cell_type": "code",
      "source": [
        "pd.pivot_table(iris1,index=[\"Id\",\"Species\"])"
      ],
      "outputs": []
    },
    {
      "metadata": {
        "_cell_guid": "098163d5-57bd-4f84-b39d-c2b6ea9af566",
        "_uuid": "4afc877ccc79e5a841175082e24f69fc708fba52",
        "id": "LWGpyH00reXw"
      },
      "source": [
        "**This is interesting but not particularly useful. What we probably want to do is look at this by  Species and ID. It’s easy enough to do by changing the index .**"
      ],
      "cell_type": "markdown"
    },
    {
      "metadata": {
        "_cell_guid": "b1c2b0b9-bbec-4595-b311-9ff6899e310e",
        "_uuid": "af06020431036404fc8a1e23060b2222df0f2a13",
        "id": "SZCSNHJEreXw"
      },
      "execution_count": null,
      "cell_type": "code",
      "source": [
        "pd.pivot_table(iris1,index=[\"Species\",\"Id\"])"
      ],
      "outputs": []
    },
    {
      "metadata": {
        "_cell_guid": "a149735b-802c-4f14-9150-bc76e8661118",
        "_uuid": "08930c4b9f1b8fa1ac4aad1b1ea7be18e16f61f7",
        "id": "tpzMNVYBreXw"
      },
      "source": [
        "**You can see that the pivot table is smart enough to start aggregating the data and summarizing  Sepal Lenth and Petal length  with their Species name.**"
      ],
      "cell_type": "markdown"
    },
    {
      "metadata": {
        "_cell_guid": "078e4854-a0a6-40c6-a7a4-6a3a1e531fc9",
        "_uuid": "cf46d4db62f37c413f2a094ba4541f4e6776d01b",
        "id": "0KtnMPrjreXw"
      },
      "execution_count": null,
      "cell_type": "code",
      "source": [
        "pd.pivot_table(iris1,index=[\"Species\"],values=[\"SepalLengthCm\",\"SepalWidthCm\"])"
      ],
      "outputs": []
    },
    {
      "metadata": {
        "_cell_guid": "4588bc36-f2f6-46bd-a265-bcc1689af581",
        "_uuid": "9afd09484fd92b51f73bd921f93edc913f000813",
        "id": "YqC2o_nareXx"
      },
      "source": [
        "**The SepalLength and SepalWidth column automatically averages the data but we can do a count or a sum.**"
      ],
      "cell_type": "markdown"
    },
    {
      "metadata": {
        "_cell_guid": "cf98be5e-4409-4ce8-ae5d-fd809e0babf2",
        "_uuid": "f001b186895db9d2c28e932bba268e46f51c8adf",
        "id": "1LUyrkZyreXy"
      },
      "execution_count": null,
      "cell_type": "code",
      "source": [
        "pd.pivot_table(iris1,index=[\"Species\"],values=[\"SepalLengthCm\",\"SepalWidthCm\"],aggfunc=np.sum)"
      ],
      "outputs": []
    },
    {
      "metadata": {
        "_cell_guid": "53bd0986-5566-4eb4-b936-817fd822f4eb",
        "_uuid": "a65088759230d6940c1ba5dd2821e4bd2de83752",
        "id": "zNvc1yMtreXy"
      },
      "source": [
        "**aggfunc can take a list of functions. Let’s try a mean using the numpy mean function and len to get a count.**"
      ],
      "cell_type": "markdown"
    },
    {
      "metadata": {
        "_cell_guid": "bcc0bba1-1eb1-4195-9639-8d5b2b91f721",
        "_uuid": "41c552d0e80fa3a8f27fedfaae4bccd7fbaaafe3",
        "id": "_qameDUIreXz"
      },
      "execution_count": null,
      "cell_type": "code",
      "source": [
        "pd.pivot_table(iris1,index=[\"Species\"],values=[\"SepalLengthCm\",\"SepalWidthCm\"],aggfunc=[np.mean,len])"
      ],
      "outputs": []
    },
    {
      "metadata": {
        "_cell_guid": "ccc72920-498d-4b42-a5c1-06c3e02e2927",
        "_uuid": "18f34ab09ff220f8f4fbb785c42f401cbd17c2f3",
        "id": "-T55ZIacreXz"
      },
      "execution_count": null,
      "cell_type": "code",
      "source": [
        "pd.pivot_table(iris1,index=[\"Species\"],values=[\"SepalLengthCm\",\"SepalWidthCm\"],\n",
        "               columns=[\"PetalLengthCm\"],aggfunc=[np.sum])"
      ],
      "outputs": []
    },
    {
      "metadata": {
        "_cell_guid": "587f7514-d34a-4b2e-beb7-bb835882709d",
        "_uuid": "8736ae58a022a92380a5d76883c223cb59be6e47",
        "id": "C73R6YsXreX0"
      },
      "source": [
        "**The NaN’s are a bit distracting. If we want to remove them, we could use fill_value to set them to 0.**"
      ],
      "cell_type": "markdown"
    },
    {
      "metadata": {
        "_cell_guid": "b9c4c54e-7c33-440c-8018-a5a11625242b",
        "_uuid": "4f6a0bcef00f26b567fb50574aff0481e0a0afa4",
        "id": "9vkNmwR_reX1"
      },
      "execution_count": null,
      "cell_type": "code",
      "source": [
        "pd.pivot_table(iris1,index=[\"Species\"],values=[\"SepalLengthCm\",\"SepalWidthCm\"],\n",
        "               columns=[\"PetalLengthCm\"],aggfunc=[np.sum],fill_value=0)"
      ],
      "outputs": []
    },
    {
      "metadata": {
        "_cell_guid": "4d29293f-37b4-4705-915f-8cd650c48827",
        "_uuid": "e9c566f75f54af8b5b3a44436eccc2bc4cc35c3c",
        "id": "GJM7ZhCdreX1"
      },
      "source": [
        "**Add Sepal Width to the index list.**"
      ],
      "cell_type": "markdown"
    },
    {
      "metadata": {
        "_cell_guid": "fc0c15db-0775-48bf-999d-101ae6697c35",
        "_uuid": "5283dd4d8d5c66463fbc5e768a45c2c8373c1200",
        "id": "tMDMB4JereX1"
      },
      "execution_count": null,
      "cell_type": "code",
      "source": [
        "pd.pivot_table(iris1,index=[\"Species\",\"SepalLengthCm\",\"SepalWidthCm\",\"PetalWidthCm\"],\n",
        "               values=[\"PetalLengthCm\"],aggfunc=[np.sum],fill_value=0)"
      ],
      "outputs": []
    },
    {
      "metadata": {
        "_cell_guid": "917ca553-0af6-47f4-b273-13300573ba4e",
        "_uuid": "8c72356ed4c30a716460e6cdd8ab530e9822cb90",
        "id": "nFJMHIFMreX2"
      },
      "source": [
        "For this data set, this representation makes more sense. Now, what if I want to see some totals? margins=True does that for us."
      ],
      "cell_type": "markdown"
    },
    {
      "metadata": {
        "_cell_guid": "7792c7ea-11a1-4d56-a164-294617bcc9b4",
        "_uuid": "cd779f2c8a3d785485d5e79fbbff6a40454dd7fc",
        "id": "qtaV2EByreX2"
      },
      "execution_count": null,
      "cell_type": "code",
      "source": [
        "df = pd.pivot_table(iris1,index=[\"Species\",\"SepalLengthCm\",\"SepalWidthCm\",\"PetalWidthCm\"],\n",
        "               values=[\"PetalLengthCm\"],aggfunc=[np.sum,np.mean],fill_value=0,margins=True)\n",
        "df"
      ],
      "outputs": []
    },
    {
      "metadata": {
        "_cell_guid": "e5a0ef94-387f-42a8-9b43-e0739d0776ea",
        "_uuid": "7f96a86917d1a52d0022452029ec4d0385c8b42a",
        "id": "sFh-EuBfreX2"
      },
      "source": [
        "Suppose, If you want to look at just one Species:"
      ],
      "cell_type": "markdown"
    },
    {
      "metadata": {
        "_cell_guid": "a88fdd15-9671-4cfc-8d99-7f48b713eed7",
        "_uuid": "176d0f97327712a54b04c6b4646eb0b1fd469cb5",
        "id": "nypg4I53reX2"
      },
      "execution_count": null,
      "cell_type": "code",
      "source": [
        "df.query('Species == [\"Iris-virginica\"]')"
      ],
      "outputs": []
    },
    {
      "metadata": {
        "collapsed": true,
        "id": "7S5MIgVIreX3"
      },
      "execution_count": null,
      "cell_type": "code",
      "source": [],
      "outputs": []
    }
  ],
  "nbformat": 4
}